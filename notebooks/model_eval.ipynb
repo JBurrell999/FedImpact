{
 "cells": [
  {
   "cell_type": "code",
   "execution_count": 6,
   "id": "c2303789",
   "metadata": {},
   "outputs": [],
   "source": [
    "import pandas as pd\n",
    "import joblib\n",
    "import matplotlib.pyplot as plt\n",
    "import seaborn as sns\n",
    "from sklearn.metrics import mean_squared_error, mean_absolute_error, r2_score"
   ]
  },
  {
   "cell_type": "code",
   "execution_count": null,
   "id": "810d169c",
   "metadata": {},
   "outputs": [],
   "source": [
    "macro_df = pd.read_pickle(\"../data/final_macro.pkl\")\n",
    "X = macro_df.drop(columns=['log_gdp'])\n",
    "y = macro_df['log_gdp']"
   ]
  },
  {
   "cell_type": "code",
   "execution_count": null,
   "id": "f7af21b2",
   "metadata": {},
   "outputs": [],
   "source": [
    "split_idx = int(len(X) * 0.8)\n",
    "X_train, X_test = X[:split_idx], X[split_idx:]\n",
    "y_train, y_test = y[:split_idx], y[split_idx:]"
   ]
  },
  {
   "cell_type": "code",
   "execution_count": null,
   "id": "047784eb",
   "metadata": {},
   "outputs": [],
   "source": [
    "model_names = ['xgb', 'ridge', 'lgbm', 'catboost']\n",
    "models = {name: joblib.load(f\"../models/{name}_forecast.pkl\") for name in model_names}"
   ]
  },
  {
   "cell_type": "code",
   "execution_count": null,
   "id": "49f08e85",
   "metadata": {},
   "outputs": [],
   "source": [
    "results = []\n",
    "for name, model in models.items():\n",
    "    y_pred = model.predict(X_test)\n",
    "    mse = mean_squared_error(y_test, y_pred)\n",
    "    mae = mean_absolute_error(y_test, y_pred)\n",
    "    r2 = r2_score(y_test, y_pred)\n",
    "    results.append({\"model\": name, \"mse\": mse, \"mae\": mae, \"r2\": r2})"
   ]
  }
 ],
 "metadata": {
  "kernelspec": {
   "display_name": ".venv",
   "language": "python",
   "name": "python3"
  },
  "language_info": {
   "codemirror_mode": {
    "name": "ipython",
    "version": 3
   },
   "file_extension": ".py",
   "mimetype": "text/x-python",
   "name": "python",
   "nbconvert_exporter": "python",
   "pygments_lexer": "ipython3",
   "version": "3.12.11"
  }
 },
 "nbformat": 4,
 "nbformat_minor": 5
}
